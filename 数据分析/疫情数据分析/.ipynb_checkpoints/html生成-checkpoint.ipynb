{
 "cells": [
  {
   "cell_type": "code",
   "execution_count": 10,
   "metadata": {},
   "outputs": [
    {
     "name": "stdout",
     "output_type": "stream",
     "text": [
      "  province  nowConfirm  confirm  dead  heal deadRate healRate\n",
      "0       香港         662     9242   158  8422     1.71    91.13\n",
      "1       河北         225      598     6   367     1.00    61.37\n",
      "2       上海         106     1562     7  1449     0.45    92.77\n",
      "3       台湾         101      828     7   720     0.85    86.96\n",
      "4       辽宁          71      387     2   314     0.52    81.14\n"
     ]
    },
    {
     "data": {
      "text/plain": [
       "'E:\\\\Python\\\\数据分析\\\\疫情数据分析\\\\china_map.html'"
      ]
     },
     "execution_count": 10,
     "metadata": {},
     "output_type": "execute_result"
    }
   ],
   "source": [
    "import time\n",
    "import json\n",
    "import requests\n",
    "import pandas as pd\n",
    "\n",
    "url = r'https://view.inews.qq.com/g2/getOnsInfo?name=disease_h5&callback=&_=%d'%int(time.time()*1000)\n",
    "html = requests.get(url)\n",
    "html.json() #将json转化成dict形式\n",
    "data = json.loads(html.json()['data'])\n",
    "china_data = data['areaTree'][0]['children']\n",
    "data_set = []\n",
    "\n",
    "for i in china_data:\n",
    "    data_dict = {}\n",
    "    data_dict['province'] = i['name']\n",
    "    data_dict['nowConfirm'] = i['total']['nowConfirm']\n",
    "    data_dict['confirm'] = i['total']['confirm']\n",
    "    data_dict['dead'] = i['total']['dead']\n",
    "    data_dict['heal'] = i['total']['heal']\n",
    "    data_dict['deadRate'] = i['total']['deadRate']\n",
    "    data_dict['healRate'] = i['total']['healRate']\n",
    "\n",
    "    data_set.append(data_dict)\n",
    "\n",
    "\n",
    "df = pd.DataFrame(data_set)#生成dataframe数据 （类似表格数据）\n",
    "df.to_csv('epidemic_data.csv') #保存到本地的csv数据\n",
    "\n",
    "\n",
    "# 数据可视化 matplotlib pyecharts（好看）\n",
    "\n",
    "from pyecharts import options as opts\n",
    "from pyecharts.charts import Bar, Line, Pie, Grid, Map\n",
    "df2 = df.sort_values(by = ['nowConfirm'], ascending=False)[:5]\n",
    "print(df2)\n",
    "#将dateframe转换成list\n",
    "df2 = [list(i) for i in zip(df2['province'].values.tolist(), df2['nowConfirm'].values.tolist())]\n",
    "\n",
    "df = df.sort_values(by = ['nowConfirm'], ascending=False)\n",
    "df = [list(i) for i in zip(df['province'].values.tolist(), df['nowConfirm'].values.tolist())]\n",
    "\n",
    "\n",
    "#画饼图并保存html文件至当前目录\n",
    "pie = (\n",
    "    Pie()\n",
    "    .add(\n",
    "        \"\",\n",
    "        df2,\n",
    "        radius=[\"10%\", \"30%\"]\n",
    "    )\n",
    "    .set_global_opts(\n",
    "        legend_opts=opts.LegendOpts(orient=\"vertical\", pos_top=\"70%\", pos_left=\"70%\"),\n",
    "    )\n",
    "    .set_series_opts(label_opts=opts.LabelOpts(formatter=\"{b}: {c}\"))\n",
    ")\n",
    "\n",
    "pie.render()#保存html文件至当前目录\n",
    "\n",
    "\n",
    "china_map = (\n",
    "    Map()\n",
    "    .add(\"现有确诊\", df)\n",
    "    .set_global_opts(\n",
    "        title_opts=opts.TitleOpts(title=\"各地区确诊人数\", pos_top=\"48%\", pos_left=\"65%\"),\n",
    "        visualmap_opts=opts.VisualMapOpts(max_=300, is_piecewise=True),\n",
    "        legend_opts=opts.LegendOpts(pos_left=\"90%\", pos_top=\"60%\")\n",
    "    )\n",
    ")\n",
    "china_map.render('china_map.html')"
   ]
  },
  {
   "cell_type": "code",
   "execution_count": null,
   "metadata": {},
   "outputs": [],
   "source": []
  }
 ],
 "metadata": {
  "kernelspec": {
   "display_name": "Python 3",
   "language": "python",
   "name": "python3"
  },
  "language_info": {
   "codemirror_mode": {
    "name": "ipython",
    "version": 3
   },
   "file_extension": ".py",
   "mimetype": "text/x-python",
   "name": "python",
   "nbconvert_exporter": "python",
   "pygments_lexer": "ipython3",
   "version": "3.7.9"
  }
 },
 "nbformat": 4,
 "nbformat_minor": 4
}
